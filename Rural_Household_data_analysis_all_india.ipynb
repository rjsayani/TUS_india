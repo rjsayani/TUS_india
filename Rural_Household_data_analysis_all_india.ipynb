{
 "cells": [
  {
   "cell_type": "markdown",
   "metadata": {},
   "source": [
    "#### Analysing and Plotting Household data Uttar Pradesh and Maharashtra"
   ]
  },
  {
   "cell_type": "code",
   "execution_count": 1,
   "metadata": {},
   "outputs": [],
   "source": [
    "import pandas as pd\n",
    "import numpy as np\n",
    "import matplotlib.pyplot as plt\n",
    "import seaborn as sns "
   ]
  },
  {
   "cell_type": "markdown",
   "metadata": {},
   "source": [
    "#### Parsing household data and creating a merged dataframe of level 1 and level 3"
   ]
  },
  {
   "cell_type": "code",
   "execution_count": 2,
   "metadata": {},
   "outputs": [],
   "source": [
    "colspecs = [(3,8),(15,16),(16,18),(19,21),(21,23),(23,25),(30,32),(39,41),(41,42),(42,43),(43,44),(56,62),(62,68),(68,71),(126,129),(129,139)]\n",
    "dfHH1 = pd.read_fwf('TUS106_L01.txt', colspecs)\n",
    "columns = [\"FSU\", \"Sector\",\"State\",\"District\",\"Stratum\",\"Sub-stratum\",\"Sample HHID\",\"InformantSI no\",\"Response code\", \"Survey code\",\"Casualty code\",\"Date of Survey\",\"Date of despatch\", \"Time to canvass\",\"NSC\", \"Multiplier\"]\n",
    "dfHH1.columns =  columns\n",
    "\n",
    "colspecs = [(3,8),(15,16),(16,18),(19,21),(21,23),(23,25),(30,32),(39,42),(44,46),(46,56),(56,66),(66,76),(76,86),(86,96),(96,98),(98,99),(99,100),(100,101),(101,102),(102,103),(126,129),(129,139)]\n",
    "dfHH3 = pd.read_fwf('TUS106_L03.txt', colspecs)\n",
    "columns = [\"FSU\", \"Sector\",\"State\",\"District\",\"Stratum\", \"Sub-stratum\", \"Sample HHID\", \"HH Size\", \"Land Own\", \"Monthly HH expenses A\", \"Impute Home grown B\", \"Wages in Kind C\", \"HH durable spent D\", \"Usual monthly expenses - ABCD\", \"Cooking energy\", \"lighting energy\", \"Washing clothes\", \"Sweeping floor\", \"Dwelling structure\", \"Care giver\", \"NSC\", \"Multiplier\"]\n",
    "dfHH3.columns =  columns\n"
   ]
  },
  {
   "cell_type": "code",
   "execution_count": 3,
   "metadata": {},
   "outputs": [
    {
     "name": "stdout",
     "output_type": "stream",
     "text": [
      "(138798, 16)\n",
      "(138798, 22)\n"
     ]
    }
   ],
   "source": [
    "print(dfHH1.shape)\n",
    "print(dfHH3.shape)"
   ]
  },
  {
   "cell_type": "code",
   "execution_count": 6,
   "metadata": {},
   "outputs": [
    {
     "name": "stdout",
     "output_type": "stream",
     "text": [
      "(55902, 16)\n",
      "(55902, 22)\n"
     ]
    }
   ],
   "source": [
    "dfHH1 = dfHH1[dfHH1.Sector == 2] \n",
    "dfHH3 = dfHH3[dfHH3.Sector == 2] \n",
    "\n",
    "print(dfHH1.shape)\n",
    "print(dfHH3.shape)"
   ]
  },
  {
   "cell_type": "code",
   "execution_count": 7,
   "metadata": {},
   "outputs": [
    {
     "data": {
      "text/plain": [
       "(55902, 38)"
      ]
     },
     "execution_count": 7,
     "metadata": {},
     "output_type": "execute_result"
    }
   ],
   "source": [
    "HH_merge = pd.concat([dfHH1, dfHH3], axis=1)\n",
    "HH_merge.shape"
   ]
  },
  {
   "cell_type": "code",
   "execution_count": 8,
   "metadata": {},
   "outputs": [
    {
     "data": {
      "text/plain": [
       "FSU                                  0\n",
       "Sector                               0\n",
       "State                                0\n",
       "District                             0\n",
       "Stratum                              0\n",
       "Sub-stratum                          0\n",
       "Sample HHID                          0\n",
       "InformantSI no                      43\n",
       "Response code                        0\n",
       "Survey code                          0\n",
       "Casualty code                    50113\n",
       "Date of Survey                     380\n",
       "Date of despatch                  3714\n",
       "Time to canvass                   1086\n",
       "NSC                                  0\n",
       "Multiplier                           0\n",
       "FSU                                  0\n",
       "Sector                               0\n",
       "State                                0\n",
       "District                             0\n",
       "Stratum                              0\n",
       "Sub-stratum                          0\n",
       "Sample HHID                          0\n",
       "HH Size                              0\n",
       "Land Own                          1857\n",
       "Monthly HH expenses A               23\n",
       "Impute Home grown B              24085\n",
       "Wages in Kind C                  22297\n",
       "HH durable spent D               15476\n",
       "Usual monthly expenses - ABCD        1\n",
       "Cooking energy                       0\n",
       "lighting energy                      0\n",
       "Washing clothes                      0\n",
       "Sweeping floor                       0\n",
       "Dwelling structure                   0\n",
       "Care giver                       24553\n",
       "NSC                                  0\n",
       "Multiplier                           0\n",
       "dtype: int64"
      ]
     },
     "execution_count": 8,
     "metadata": {},
     "output_type": "execute_result"
    }
   ],
   "source": [
    "HH_merge.isna().sum()"
   ]
  },
  {
   "cell_type": "code",
   "execution_count": 9,
   "metadata": {},
   "outputs": [],
   "source": [
    "HH_inhabitated = HH_merge[HH_merge['Survey code'] == 1 ]"
   ]
  },
  {
   "cell_type": "code",
   "execution_count": 10,
   "metadata": {},
   "outputs": [
    {
     "data": {
      "text/plain": [
       "(50113, 38)"
      ]
     },
     "execution_count": 10,
     "metadata": {},
     "output_type": "execute_result"
    }
   ],
   "source": [
    "HH_inhabitated.shape"
   ]
  },
  {
   "cell_type": "code",
   "execution_count": 11,
   "metadata": {},
   "outputs": [
    {
     "data": {
      "text/plain": [
       "Index(['FSU', 'Sector', 'State', 'District', 'Stratum', 'Sub-stratum',\n",
       "       'Sample HHID', 'InformantSI no', 'Response code', 'Survey code',\n",
       "       'Casualty code', 'Date of Survey', 'Date of despatch',\n",
       "       'Time to canvass', 'NSC', 'Multiplier', 'FSU', 'Sector', 'State',\n",
       "       'District', 'Stratum', 'Sub-stratum', 'Sample HHID', 'HH Size',\n",
       "       'Land Own', 'Monthly HH expenses A', 'Impute Home grown B',\n",
       "       'Wages in Kind C', 'HH durable spent D',\n",
       "       'Usual monthly expenses - ABCD', 'Cooking energy', 'lighting energy',\n",
       "       'Washing clothes', 'Sweeping floor', 'Dwelling structure', 'Care giver',\n",
       "       'NSC', 'Multiplier'],\n",
       "      dtype='object')"
      ]
     },
     "execution_count": 11,
     "metadata": {},
     "output_type": "execute_result"
    }
   ],
   "source": [
    "HH_inhabitated.columns"
   ]
  },
  {
   "cell_type": "code",
   "execution_count": 12,
   "metadata": {},
   "outputs": [
    {
     "data": {
      "text/plain": [
       "<AxesSubplot:xlabel='HH Size'>"
      ]
     },
     "execution_count": 12,
     "metadata": {},
     "output_type": "execute_result"
    },
    {
     "data": {
      "image/png": "[encoded data removed]",
      "text/plain": [
       "<Figure size 432x288 with 1 Axes>"
      ]
     },
     "metadata": {
      "needs_background": "light"
     },
     "output_type": "display_data"
    }
   ],
   "source": [
    "# Plot boxplot to visualise univariate outlier\n",
    "\n",
    "sns.boxplot(x=HH_inhabitated['HH Size'])"
   ]
  },
  {
   "cell_type": "code",
   "execution_count": 13,
   "metadata": {},
   "outputs": [
    {
     "data": {
      "text/plain": [
       "<AxesSubplot:xlabel='Land Own'>"
      ]
     },
     "execution_count": 13,
     "metadata": {},
     "output_type": "execute_result"
    },
    {
     "data": {
      "image/png": "[encoded data removed]",
      "text/plain": [
       "<Figure size 432x288 with 1 Axes>"
      ]
     },
     "metadata": {
      "needs_background": "light"
     },
     "output_type": "display_data"
    }
   ],
   "source": [
    "sns.boxplot(x=HH_inhabitated['Land Own'])"
   ]
  },
  {
   "cell_type": "code",
   "execution_count": 14,
   "metadata": {},
   "outputs": [
    {
     "data": {
      "text/plain": [
       "<AxesSubplot:xlabel='Land Own'>"
      ]
     },
     "execution_count": 14,
     "metadata": {},
     "output_type": "execute_result"
    },
    {
     "data": {
      "image/png": "[encoded data removed]",
      "text/plain": [
       "<Figure size 432x288 with 1 Axes>"
      ]
     },
     "metadata": {
      "needs_background": "light"
     },
     "output_type": "display_data"
    }
   ],
   "source": [
    "HH_LandOwn = HH_inhabitated[HH_inhabitated['Land Own'] <10]\n",
    "sns.boxplot(x=HH_LandOwn['Land Own'])"
   ]
  },
  {
   "cell_type": "code",
   "execution_count": 15,
   "metadata": {},
   "outputs": [
    {
     "data": {
      "text/plain": [
       "<AxesSubplot:xlabel='Monthly HH expenses A'>"
      ]
     },
     "execution_count": 15,
     "metadata": {},
     "output_type": "execute_result"
    },
    {
     "data": {
      "image/png": "[encoded data removed]",
      "text/plain": [
       "<Figure size 432x288 with 1 Axes>"
      ]
     },
     "metadata": {
      "needs_background": "light"
     },
     "output_type": "display_data"
    }
   ],
   "source": [
    "sns.boxplot(x=HH_inhabitated['Monthly HH expenses A'])"
   ]
  },
  {
   "cell_type": "code",
   "execution_count": 16,
   "metadata": {},
   "outputs": [
    {
     "data": {
      "text/plain": [
       "<AxesSubplot:xlabel='Impute Home grown B'>"
      ]
     },
     "execution_count": 16,
     "metadata": {},
     "output_type": "execute_result"
    },
    {
     "data": {
      "image/png": "[encoded data removed]",
      "text/plain": [
       "<Figure size 432x288 with 1 Axes>"
      ]
     },
     "metadata": {
      "needs_background": "light"
     },
     "output_type": "display_data"
    }
   ],
   "source": [
    "sns.boxplot(x=HH_inhabitated['Impute Home grown B'])"
   ]
  },
  {
   "cell_type": "code",
   "execution_count": 17,
   "metadata": {},
   "outputs": [
    {
     "data": {
      "text/plain": [
       "<AxesSubplot:xlabel='Wages in Kind C'>"
      ]
     },
     "execution_count": 17,
     "metadata": {},
     "output_type": "execute_result"
    },
    {
     "data": {
      "image/png": "[encoded data removed]",
      "text/plain": [
       "<Figure size 432x288 with 1 Axes>"
      ]
     },
     "metadata": {
      "needs_background": "light"
     },
     "output_type": "display_data"
    }
   ],
   "source": [
    "sns.boxplot(x=HH_inhabitated['Wages in Kind C'])"
   ]
  },
  {
   "cell_type": "code",
   "execution_count": 17,
   "metadata": {},
   "outputs": [
    {
     "data": {
      "text/plain": [
       "<AxesSubplot:xlabel='HH durable spent D'>"
      ]
     },
     "execution_count": 17,
     "metadata": {},
     "output_type": "execute_result"
    },
    {
     "data": {
      "image/png": "[encoded data removed]",
      "text/plain": [
       "<Figure size 432x288 with 1 Axes>"
      ]
     },
     "metadata": {
      "needs_background": "light"
     },
     "output_type": "display_data"
    }
   ],
   "source": [
    "sns.boxplot(x=HH_inhabitated['HH durable spent D'])"
   ]
  },
  {
   "cell_type": "code",
   "execution_count": 18,
   "metadata": {},
   "outputs": [
    {
     "data": {
      "text/plain": [
       "<AxesSubplot:xlabel='Usual monthly expenses - ABCD'>"
      ]
     },
     "execution_count": 18,
     "metadata": {},
     "output_type": "execute_result"
    },
    {
     "data": {
      "image/png": "[encoded data removed]",
      "text/plain": [
       "<Figure size 432x288 with 1 Axes>"
      ]
     },
     "metadata": {
      "needs_background": "light"
     },
     "output_type": "display_data"
    }
   ],
   "source": [
    "sns.boxplot(x=HH_inhabitated['Usual monthly expenses - ABCD'])"
   ]
  },
  {
   "cell_type": "code",
   "execution_count": 22,
   "metadata": {},
   "outputs": [],
   "source": [
    "HH_new = HH_inhabitated.drop(columns = [\"Casualty code\"])"
   ]
  },
  {
   "cell_type": "code",
   "execution_count": 24,
   "metadata": {},
   "outputs": [
    {
     "data": {
      "text/html": [
       "<div>\n",
       "<style scoped>\n",
       "    .dataframe tbody tr th:only-of-type {\n",
       "        vertical-align: middle;\n",
       "    }\n",
       "\n",
       "    .dataframe tbody tr th {\n",
       "        vertical-align: top;\n",
       "    }\n",
       "\n",
       "    .dataframe thead th {\n",
       "        text-align: right;\n",
       "    }\n",
       "</style>\n",
       "<table border=\"1\" class=\"dataframe\">\n",
       "  <thead>\n",
       "    <tr style=\"text-align: right;\">\n",
       "      <th></th>\n",
       "      <th>FSU</th>\n",
       "      <th>Sector</th>\n",
       "      <th>State</th>\n",
       "      <th>District</th>\n",
       "      <th>Stratum</th>\n",
       "      <th>Sub-stratum</th>\n",
       "      <th>Sample HHID</th>\n",
       "      <th>InformantSI no</th>\n",
       "      <th>Response code</th>\n",
       "      <th>Survey code</th>\n",
       "      <th>...</th>\n",
       "      <th>HH durable spent D</th>\n",
       "      <th>Usual monthly expenses - ABCD</th>\n",
       "      <th>Cooking energy</th>\n",
       "      <th>lighting energy</th>\n",
       "      <th>Washing clothes</th>\n",
       "      <th>Sweeping floor</th>\n",
       "      <th>Dwelling structure</th>\n",
       "      <th>Care giver</th>\n",
       "      <th>NSC</th>\n",
       "      <th>Multiplier</th>\n",
       "    </tr>\n",
       "  </thead>\n",
       "  <tbody>\n",
       "    <tr>\n",
       "      <th>671</th>\n",
       "      <td>20124</td>\n",
       "      <td>2</td>\n",
       "      <td>1</td>\n",
       "      <td>7</td>\n",
       "      <td>2</td>\n",
       "      <td>1</td>\n",
       "      <td>11</td>\n",
       "      <td>1.0</td>\n",
       "      <td>1</td>\n",
       "      <td>1</td>\n",
       "      <td>...</td>\n",
       "      <td>0.0</td>\n",
       "      <td>30000.0</td>\n",
       "      <td>2</td>\n",
       "      <td>1</td>\n",
       "      <td>1</td>\n",
       "      <td>2</td>\n",
       "      <td>3</td>\n",
       "      <td>1.0</td>\n",
       "      <td>4</td>\n",
       "      <td>27029</td>\n",
       "    </tr>\n",
       "    <tr>\n",
       "      <th>675</th>\n",
       "      <td>20275</td>\n",
       "      <td>2</td>\n",
       "      <td>1</td>\n",
       "      <td>7</td>\n",
       "      <td>2</td>\n",
       "      <td>1</td>\n",
       "      <td>1</td>\n",
       "      <td>1.0</td>\n",
       "      <td>1</td>\n",
       "      <td>1</td>\n",
       "      <td>...</td>\n",
       "      <td>0.0</td>\n",
       "      <td>15000.0</td>\n",
       "      <td>2</td>\n",
       "      <td>1</td>\n",
       "      <td>1</td>\n",
       "      <td>3</td>\n",
       "      <td>3</td>\n",
       "      <td>2.0</td>\n",
       "      <td>4</td>\n",
       "      <td>74800</td>\n",
       "    </tr>\n",
       "    <tr>\n",
       "      <th>676</th>\n",
       "      <td>20275</td>\n",
       "      <td>2</td>\n",
       "      <td>1</td>\n",
       "      <td>7</td>\n",
       "      <td>2</td>\n",
       "      <td>1</td>\n",
       "      <td>2</td>\n",
       "      <td>1.0</td>\n",
       "      <td>1</td>\n",
       "      <td>1</td>\n",
       "      <td>...</td>\n",
       "      <td>0.0</td>\n",
       "      <td>10000.0</td>\n",
       "      <td>2</td>\n",
       "      <td>1</td>\n",
       "      <td>2</td>\n",
       "      <td>2</td>\n",
       "      <td>3</td>\n",
       "      <td>2.0</td>\n",
       "      <td>4</td>\n",
       "      <td>74800</td>\n",
       "    </tr>\n",
       "    <tr>\n",
       "      <th>677</th>\n",
       "      <td>20275</td>\n",
       "      <td>2</td>\n",
       "      <td>1</td>\n",
       "      <td>7</td>\n",
       "      <td>2</td>\n",
       "      <td>1</td>\n",
       "      <td>3</td>\n",
       "      <td>1.0</td>\n",
       "      <td>1</td>\n",
       "      <td>1</td>\n",
       "      <td>...</td>\n",
       "      <td>0.0</td>\n",
       "      <td>20400.0</td>\n",
       "      <td>2</td>\n",
       "      <td>1</td>\n",
       "      <td>2</td>\n",
       "      <td>2</td>\n",
       "      <td>3</td>\n",
       "      <td>2.0</td>\n",
       "      <td>4</td>\n",
       "      <td>74800</td>\n",
       "    </tr>\n",
       "    <tr>\n",
       "      <th>678</th>\n",
       "      <td>20275</td>\n",
       "      <td>2</td>\n",
       "      <td>1</td>\n",
       "      <td>7</td>\n",
       "      <td>2</td>\n",
       "      <td>1</td>\n",
       "      <td>4</td>\n",
       "      <td>1.0</td>\n",
       "      <td>1</td>\n",
       "      <td>1</td>\n",
       "      <td>...</td>\n",
       "      <td>0.0</td>\n",
       "      <td>15000.0</td>\n",
       "      <td>2</td>\n",
       "      <td>1</td>\n",
       "      <td>2</td>\n",
       "      <td>1</td>\n",
       "      <td>3</td>\n",
       "      <td>2.0</td>\n",
       "      <td>4</td>\n",
       "      <td>74800</td>\n",
       "    </tr>\n",
       "    <tr>\n",
       "      <th>...</th>\n",
       "      <td>...</td>\n",
       "      <td>...</td>\n",
       "      <td>...</td>\n",
       "      <td>...</td>\n",
       "      <td>...</td>\n",
       "      <td>...</td>\n",
       "      <td>...</td>\n",
       "      <td>...</td>\n",
       "      <td>...</td>\n",
       "      <td>...</td>\n",
       "      <td>...</td>\n",
       "      <td>...</td>\n",
       "      <td>...</td>\n",
       "      <td>...</td>\n",
       "      <td>...</td>\n",
       "      <td>...</td>\n",
       "      <td>...</td>\n",
       "      <td>...</td>\n",
       "      <td>...</td>\n",
       "      <td>...</td>\n",
       "      <td>...</td>\n",
       "    </tr>\n",
       "    <tr>\n",
       "      <th>138458</th>\n",
       "      <td>24614</td>\n",
       "      <td>2</td>\n",
       "      <td>36</td>\n",
       "      <td>18</td>\n",
       "      <td>1</td>\n",
       "      <td>2</td>\n",
       "      <td>11</td>\n",
       "      <td>1.0</td>\n",
       "      <td>1</td>\n",
       "      <td>1</td>\n",
       "      <td>...</td>\n",
       "      <td>15000.0</td>\n",
       "      <td>10250.0</td>\n",
       "      <td>2</td>\n",
       "      <td>1</td>\n",
       "      <td>2</td>\n",
       "      <td>2</td>\n",
       "      <td>3</td>\n",
       "      <td>2.0</td>\n",
       "      <td>4</td>\n",
       "      <td>140979</td>\n",
       "    </tr>\n",
       "    <tr>\n",
       "      <th>138459</th>\n",
       "      <td>24614</td>\n",
       "      <td>2</td>\n",
       "      <td>36</td>\n",
       "      <td>18</td>\n",
       "      <td>1</td>\n",
       "      <td>2</td>\n",
       "      <td>12</td>\n",
       "      <td>1.0</td>\n",
       "      <td>1</td>\n",
       "      <td>1</td>\n",
       "      <td>...</td>\n",
       "      <td>9000.0</td>\n",
       "      <td>12750.0</td>\n",
       "      <td>2</td>\n",
       "      <td>1</td>\n",
       "      <td>2</td>\n",
       "      <td>2</td>\n",
       "      <td>3</td>\n",
       "      <td>2.0</td>\n",
       "      <td>4</td>\n",
       "      <td>140979</td>\n",
       "    </tr>\n",
       "    <tr>\n",
       "      <th>138460</th>\n",
       "      <td>24614</td>\n",
       "      <td>2</td>\n",
       "      <td>36</td>\n",
       "      <td>18</td>\n",
       "      <td>1</td>\n",
       "      <td>2</td>\n",
       "      <td>13</td>\n",
       "      <td>1.0</td>\n",
       "      <td>1</td>\n",
       "      <td>1</td>\n",
       "      <td>...</td>\n",
       "      <td>11000.0</td>\n",
       "      <td>15917.0</td>\n",
       "      <td>2</td>\n",
       "      <td>1</td>\n",
       "      <td>2</td>\n",
       "      <td>2</td>\n",
       "      <td>3</td>\n",
       "      <td>2.0</td>\n",
       "      <td>4</td>\n",
       "      <td>140979</td>\n",
       "    </tr>\n",
       "    <tr>\n",
       "      <th>138519</th>\n",
       "      <td>24853</td>\n",
       "      <td>2</td>\n",
       "      <td>36</td>\n",
       "      <td>23</td>\n",
       "      <td>4</td>\n",
       "      <td>1</td>\n",
       "      <td>2</td>\n",
       "      <td>3.0</td>\n",
       "      <td>2</td>\n",
       "      <td>1</td>\n",
       "      <td>...</td>\n",
       "      <td>0.0</td>\n",
       "      <td>32000.0</td>\n",
       "      <td>2</td>\n",
       "      <td>1</td>\n",
       "      <td>1</td>\n",
       "      <td>3</td>\n",
       "      <td>3</td>\n",
       "      <td>1.0</td>\n",
       "      <td>4</td>\n",
       "      <td>161229</td>\n",
       "    </tr>\n",
       "    <tr>\n",
       "      <th>138619</th>\n",
       "      <td>25467</td>\n",
       "      <td>2</td>\n",
       "      <td>36</td>\n",
       "      <td>23</td>\n",
       "      <td>4</td>\n",
       "      <td>3</td>\n",
       "      <td>4</td>\n",
       "      <td>1.0</td>\n",
       "      <td>2</td>\n",
       "      <td>1</td>\n",
       "      <td>...</td>\n",
       "      <td>0.0</td>\n",
       "      <td>18600.0</td>\n",
       "      <td>2</td>\n",
       "      <td>1</td>\n",
       "      <td>2</td>\n",
       "      <td>2</td>\n",
       "      <td>3</td>\n",
       "      <td>2.0</td>\n",
       "      <td>4</td>\n",
       "      <td>385000</td>\n",
       "    </tr>\n",
       "  </tbody>\n",
       "</table>\n",
       "<p>13993 rows × 37 columns</p>\n",
       "</div>"
      ],
      "text/plain": [
       "          FSU  Sector  State  District  Stratum  Sub-stratum  Sample HHID  \\\n",
       "671     20124       2      1         7        2            1           11   \n",
       "675     20275       2      1         7        2            1            1   \n",
       "676     20275       2      1         7        2            1            2   \n",
       "677     20275       2      1         7        2            1            3   \n",
       "678     20275       2      1         7        2            1            4   \n",
       "...       ...     ...    ...       ...      ...          ...          ...   \n",
       "138458  24614       2     36        18        1            2           11   \n",
       "138459  24614       2     36        18        1            2           12   \n",
       "138460  24614       2     36        18        1            2           13   \n",
       "138519  24853       2     36        23        4            1            2   \n",
       "138619  25467       2     36        23        4            3            4   \n",
       "\n",
       "        InformantSI no  Response code  Survey code  ...  HH durable spent D  \\\n",
       "671                1.0              1            1  ...                 0.0   \n",
       "675                1.0              1            1  ...                 0.0   \n",
       "676                1.0              1            1  ...                 0.0   \n",
       "677                1.0              1            1  ...                 0.0   \n",
       "678                1.0              1            1  ...                 0.0   \n",
       "...                ...            ...          ...  ...                 ...   \n",
       "138458             1.0              1            1  ...             15000.0   \n",
       "138459             1.0              1            1  ...              9000.0   \n",
       "138460             1.0              1            1  ...             11000.0   \n",
       "138519             3.0              2            1  ...                 0.0   \n",
       "138619             1.0              2            1  ...                 0.0   \n",
       "\n",
       "        Usual monthly expenses - ABCD  Cooking energy  lighting energy  \\\n",
       "671                           30000.0               2                1   \n",
       "675                           15000.0               2                1   \n",
       "676                           10000.0               2                1   \n",
       "677                           20400.0               2                1   \n",
       "678                           15000.0               2                1   \n",
       "...                               ...             ...              ...   \n",
       "138458                        10250.0               2                1   \n",
       "138459                        12750.0               2                1   \n",
       "138460                        15917.0               2                1   \n",
       "138519                        32000.0               2                1   \n",
       "138619                        18600.0               2                1   \n",
       "\n",
       "        Washing clothes  Sweeping floor  Dwelling structure  Care giver  NSC  \\\n",
       "671                   1               2                   3         1.0    4   \n",
       "675                   1               3                   3         2.0    4   \n",
       "676                   2               2                   3         2.0    4   \n",
       "677                   2               2                   3         2.0    4   \n",
       "678                   2               1                   3         2.0    4   \n",
       "...                 ...             ...                 ...         ...  ...   \n",
       "138458                2               2                   3         2.0    4   \n",
       "138459                2               2                   3         2.0    4   \n",
       "138460                2               2                   3         2.0    4   \n",
       "138519                1               3                   3         1.0    4   \n",
       "138619                2               2                   3         2.0    4   \n",
       "\n",
       "        Multiplier  \n",
       "671          27029  \n",
       "675          74800  \n",
       "676          74800  \n",
       "677          74800  \n",
       "678          74800  \n",
       "...            ...  \n",
       "138458      140979  \n",
       "138459      140979  \n",
       "138460      140979  \n",
       "138519      161229  \n",
       "138619      385000  \n",
       "\n",
       "[13993 rows x 37 columns]"
      ]
     },
     "execution_count": 24,
     "metadata": {},
     "output_type": "execute_result"
    }
   ],
   "source": [
    "HH_new.dropna()"
   ]
  },
  {
   "cell_type": "code",
   "execution_count": 25,
   "metadata": {},
   "outputs": [
    {
     "data": {
      "text/plain": [
       "<AxesSubplot:xlabel='HH Size'>"
      ]
     },
     "execution_count": 25,
     "metadata": {},
     "output_type": "execute_result"
    },
    {
     "data": {
      "image/png": "[encoded data removed]",
      "text/plain": [
       "<Figure size 432x288 with 1 Axes>"
      ]
     },
     "metadata": {
      "needs_background": "light"
     },
     "output_type": "display_data"
    }
   ],
   "source": [
    "sns.boxplot(x=HH_new['HH Size'])"
   ]
  },
  {
   "cell_type": "code",
   "execution_count": 31,
   "metadata": {},
   "outputs": [
    {
     "data": {
      "text/plain": [
       "<AxesSubplot:xlabel='Land Own'>"
      ]
     },
     "execution_count": 31,
     "metadata": {},
     "output_type": "execute_result"
    },
    {
     "data": {
      "image/png": "[encoded data removed]",
      "text/plain": [
       "<Figure size 432x288 with 1 Axes>"
      ]
     },
     "metadata": {
      "needs_background": "light"
     },
     "output_type": "display_data"
    }
   ],
   "source": [
    "HH_LandOwn = HH_new[HH_new['Land Own'] <10]\n",
    "sns.boxplot(x=HH_LandOwn['Land Own'])"
   ]
  },
  {
   "cell_type": "code",
   "execution_count": 32,
   "metadata": {},
   "outputs": [
    {
     "data": {
      "text/plain": [
       "<AxesSubplot:xlabel='Monthly HH expenses A'>"
      ]
     },
     "execution_count": 32,
     "metadata": {},
     "output_type": "execute_result"
    },
    {
     "data": {
      "image/png": "[encoded data removed]",
      "text/plain": [
       "<Figure size 432x288 with 1 Axes>"
      ]
     },
     "metadata": {
      "needs_background": "light"
     },
     "output_type": "display_data"
    }
   ],
   "source": [
    "sns.boxplot(x=HH_new['Monthly HH expenses A'])"
   ]
  },
  {
   "cell_type": "code",
   "execution_count": 33,
   "metadata": {},
   "outputs": [
    {
     "data": {
      "text/plain": [
       "<AxesSubplot:xlabel='Impute Home grown B'>"
      ]
     },
     "execution_count": 33,
     "metadata": {},
     "output_type": "execute_result"
    },
    {
     "data": {
      "image/png": "[encoded data removed]",
      "text/plain": [
       "<Figure size 432x288 with 1 Axes>"
      ]
     },
     "metadata": {
      "needs_background": "light"
     },
     "output_type": "display_data"
    }
   ],
   "source": [
    "sns.boxplot(x=HH_new['Impute Home grown B'])"
   ]
  },
  {
   "cell_type": "code",
   "execution_count": null,
   "metadata": {},
   "outputs": [],
   "source": []
  }
 ],
 "metadata": {
  "kernelspec": {
   "display_name": "Python 3",
   "language": "python",
   "name": "python3"
  },
  "language_info": {
   "codemirror_mode": {
    "name": "ipython",
    "version": 3
   },
   "file_extension": ".py",
   "mimetype": "text/x-python",
   "name": "python",
   "nbconvert_exporter": "python",
   "pygments_lexer": "ipython3",
   "version": "3.8.5"
  }
 },
 "nbformat": 4,
 "nbformat_minor": 4
}
