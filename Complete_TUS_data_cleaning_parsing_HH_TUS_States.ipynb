{
 "cells": [
  {
   "cell_type": "markdown",
   "metadata": {},
   "source": [
    "#### Get the raw files and fill missing characters with zeros"
   ]
  },
  {
   "cell_type": "code",
   "execution_count": null,
   "metadata": {},
   "outputs": [],
   "source": [
    "##Code for filling missing values with zeros\n",
    "\n",
    "from pathlib import Path\n",
    "\n",
    "##########\n",
    "#Household level data file\n",
    "##########\n",
    "txt = Path('TUS106_L01.txt').read_text()\n",
    "#Using readlines()\n",
    "file1 = open('TUS106_L01.txt', 'r')\n",
    "Lines = file1.readlines()\n",
    " \n",
    "count = 0\n",
    "# # Strips the newline character\n",
    "for line in Lines:\n",
    "    Lines[count] = line.replace(' ', '0')\n",
    "    count +=1\n",
    "    \n",
    "file1 = open('TUS106_L01_filled.txt', 'w')\n",
    "file1.writelines(Lines)\n",
    "file1.close()\n",
    "\n",
    "txt = Path('TUS106_L02.txt').read_text()\n",
    "#Using readlines()\n",
    "file1 = open('TUS106_L02.txt', 'r')\n",
    "Lines = file1.readlines()\n",
    " \n",
    "count = 0\n",
    "# # Strips the newline character\n",
    "for line in Lines:\n",
    "    Lines[count] = line.replace(' ', '0')\n",
    "    count +=1\n",
    "    \n",
    "file1 = open('TUS106_L02_filled.txt', 'w')\n",
    "file1.writelines(Lines)\n",
    "file1.close()\n",
    "\n",
    "##########\n",
    "#Household level data file\n",
    "##########\n",
    "\n",
    "txt = Path('TUS106_L03.txt').read_text()\n",
    "#Using readlines()\n",
    "file1 = open('TUS106_L03.txt', 'r')\n",
    "Lines = file1.readlines()\n",
    " \n",
    "count = 0\n",
    "# # Strips the newline character\n",
    "for line in Lines:\n",
    "    Lines[count] = line.replace(' ', '0')\n",
    "    count +=1\n",
    "    \n",
    "file1 = open('TUS106_L03_filled.txt', 'w')\n",
    "file1.writelines(Lines)\n",
    "file1.close()\n",
    "\n",
    "txt = Path('TUS106_L04.txt').read_text()\n",
    "#Using readlines()\n",
    "file1 = open('TUS106_L04.txt', 'r')\n",
    "Lines = file1.readlines()\n",
    " \n",
    "count = 0\n",
    "# # Strips the newline character\n",
    "for line in Lines:\n",
    "    Lines[count] = line.replace(' ', '0')\n",
    "    count +=1\n",
    "    \n",
    "file1 = open('TUS106_L04_filled.txt', 'w')\n",
    "file1.writelines(Lines)\n",
    "file1.close()\n",
    "\n",
    "txt = Path('TUS106_L05.txt').read_text()\n",
    "#Using readlines()\n",
    "file1 = open('TUS106_L05.txt', 'r')\n",
    "Lines = file1.readlines()\n",
    " \n",
    "count = 0\n",
    "# # Strips the newline character\n",
    "for line in Lines:\n",
    "    Lines[count] = line.replace(' ', '0')\n",
    "    count +=1\n",
    "    \n",
    "file1 = open('TUS106_L05_filled.txt', 'w')\n",
    "file1.writelines(Lines)\n",
    "file1.close()"
   ]
  },
  {
   "cell_type": "markdown",
   "metadata": {},
   "source": [
    "#### Load new files with zeros so pandas dataframe can read all 140 characters in a single column then parse it based on data layout information "
   ]
  },
  {
   "cell_type": "code",
   "execution_count": 1,
   "metadata": {},
   "outputs": [],
   "source": [
    "import pandas as pd\n",
    "import matplotlib.pyplot as plt"
   ]
  },
  {
   "cell_type": "markdown",
   "metadata": {},
   "source": [
    "#### Parsing only household dataset L01 and L03 + filtering inhabited and rural households and creating TUSHH rural data file"
   ]
  },
  {
   "cell_type": "code",
   "execution_count": 4,
   "metadata": {},
   "outputs": [],
   "source": [
    "\n",
    "\n",
    "### Loading dataset L03 and L01 - household \n",
    "dfHH3 = pd.read_csv('TUS106_L03_filled.txt', header=None)\n",
    "dfHH1 = pd.read_csv('TUS106_L01_filled.txt', header=None)\n",
    "dfHH3.rename( columns={0 :'RawStrL03'}, inplace=True )\n",
    "dfHH1.rename( columns={0 :'RawStrL01'}, inplace=True )\n",
    "\n",
    "\n",
    "### parsing dataset based on data layout given\n",
    "\n",
    "dfHH3['FSU'] = dfHH3['RawStrL03'].map(lambda x: x[0:8])\n",
    "dfHH3['Schedule'] = dfHH3['RawStrL03'].map(lambda x: int(x[8:11]))\n",
    "dfHH3['Survey Year'] = dfHH3['RawStrL03'].map(lambda x: int(x[11:15]))\n",
    "dfHH3['Sector'] = dfHH3['RawStrL03'].map(lambda x: x[15:16])\n",
    "dfHH3['NSS-region'] = dfHH3['RawStrL03'].map(lambda x: int(x[16:19]))\n",
    "dfHH3['State'] = dfHH3['RawStrL03'].map(lambda x: int(x[16:18]))\n",
    "dfHH3['District'] = dfHH3['RawStrL03'].map(lambda x: int(x[19:21]))\n",
    "dfHH3['Stratum'] = dfHH3['RawStrL03'].map(lambda x: x[21:23])\n",
    "dfHH3['Sub-stratum'] = dfHH3['RawStrL03'].map(lambda x: x[23:25])\n",
    "dfHH3['Sub round'] = dfHH3['RawStrL03'].map(lambda x: int(x[25:26]))\n",
    "dfHH3['FOD sub region'] = dfHH3['RawStrL03'].map(lambda x: x[26:30])\n",
    "dfHH3['Sample HHID'] = dfHH3['RawStrL03'].map(lambda x: x[30:32])\n",
    "dfHH3['Level'] = dfHH3['RawStrL03'].map(lambda x: int(x[32:34]))\n",
    "dfHH3['Filler'] = dfHH3['RawStrL03'].map(lambda x: int(x[34:39]))\n",
    "dfHH3['HH size'] = dfHH3['RawStrL03'].map(lambda x: int(x[39:42]))\n",
    "dfHH3['Religion'] = dfHH3['RawStrL03'].map(lambda x: int(x[42:43]))\n",
    "dfHH3['Social group'] = dfHH3['RawStrL03'].map(lambda x: int(x[43:44]))\n",
    "dfHH3['Land Own'] = dfHH3['RawStrL03'].map(lambda x: int(x[44:46]))\n",
    "dfHH3['Monthly HH expenses A'] = dfHH3['RawStrL03'].map(lambda x: int(x[46:56]))\n",
    "dfHH3['Impute Home grown B'] = dfHH3['RawStrL03'].map(lambda x: int(x[56:66]))\n",
    "dfHH3['Wages in Kind C'] = dfHH3['RawStrL03'].map(lambda x: int(x[66:76]))\n",
    "dfHH3['HH durable spent D'] = dfHH3['RawStrL03'].map(lambda x: int(x[76:86]))\n",
    "dfHH3['Usual monthly expenses - ABCD'] = dfHH3['RawStrL03'].map(lambda x: int(x[86:96]))\n",
    "dfHH3['Cooking energy'] = dfHH3['RawStrL03'].map(lambda x: int(x[96:98]))\n",
    "dfHH3['lighting energy'] = dfHH3['RawStrL03'].map(lambda x: int(x[98:99]))\n",
    "dfHH3['Washing clothes'] = dfHH3['RawStrL03'].map(lambda x: int(x[99:100]))\n",
    "dfHH3['Sweeping floor'] = dfHH3['RawStrL03'].map(lambda x: int(x[100:101]))\n",
    "dfHH3['Dwelling structure'] = dfHH3['RawStrL03'].map(lambda x: int(x[101:102]))\n",
    "dfHH3['Care giver'] = dfHH3['RawStrL03'].map(lambda x: int(x[102:103]))\n",
    "dfHH3['NSC'] = dfHH3['RawStrL03'].map(lambda x: x[126:129])\n",
    "dfHH3['Multiplier'] = dfHH3['RawStrL03'].map(lambda x: x[129:139])\n",
    "\n",
    "dfHH3 = dfHH3[dfHH3['Sector']=='2'] \n",
    "\n",
    "dfHH3= dfHH3.drop(columns={'RawStrL03'})\n",
    "\n",
    "dfHH1['FSU'] = dfHH1['RawStrL01'].map(lambda x: x[0:8])\n",
    "dfHH1['State'] = dfHH1['RawStrL01'].map(lambda x: int(x[16:18]))\n",
    "dfHH1['Sector'] = dfHH1['RawStrL01'].map(lambda x: x[15:16])\n",
    "dfHH1['Sample HHID'] = dfHH1['RawStrL01'].map(lambda x: x[30:32])\n",
    "dfHH1['Level'] = dfHH1['RawStrL01'].map(lambda x: x[32:34])\n",
    "dfHH1['filler'] = dfHH1['RawStrL01'].map(lambda x: int(x[34:39]))\n",
    "dfHH1['InformantSI no'] = dfHH1['RawStrL01'].map(lambda x: x[39:41])\n",
    "dfHH1['Response code'] = dfHH1['RawStrL01'].map(lambda x: int(x[41:42]))\n",
    "dfHH1['Survey code'] = dfHH1['RawStrL01'].map(lambda x: int(x[42:43]))\n",
    "dfHH1['Casualty code'] = dfHH1['RawStrL01'].map(lambda x: int(x[43:44]))\n",
    "dfHH1['Filler'] = dfHH1['RawStrL01'].map(lambda x: int(x[44:56]))\n",
    "dfHH1['Date of Survey'] = dfHH1['RawStrL01'].map(lambda x: x[56:62])\n",
    "dfHH1['Date of despatch'] = dfHH1['RawStrL01'].map(lambda x: x[62:68])\n",
    "dfHH1['Time to canvass'] = dfHH1['RawStrL01'].map(lambda x: x[68:71])\n",
    "dfHH1['No of investigators'] = dfHH1['RawStrL01'].map(lambda x: x[71:72])\n",
    "dfHH1['NSC'] = dfHH1['RawStrL01'].map(lambda x: x[126:129])\n",
    "\n",
    "dfHH1 = dfHH1[dfHH1['Sector']=='2']\n",
    "\n",
    "dfHH1 = dfHH1.drop(columns={'RawStrL01'})\n",
    "\n",
    "\n",
    "\n",
    "dfHH1.to_csv('HH1_rural.csv')\n",
    "dfHH3.to_csv('HH3_rural.csv')\n"
   ]
  },
  {
   "cell_type": "markdown",
   "metadata": {},
   "source": [
    "#### Parsing TimeUse data sets L02, L04 and L05 - and filtering individual records from rural sector"
   ]
  },
  {
   "cell_type": "code",
   "execution_count": 5,
   "metadata": {},
   "outputs": [],
   "source": [
    "dfTUS2 = pd.read_csv('TUS106_L02_filled.txt', header=None)\n",
    "dfTUS4 = pd.read_csv('TUS106_L04_filled.txt', header=None)\n",
    "dfTUS5 = pd.read_csv('TUS106_L05_filled.txt', header=None)\n",
    "\n",
    "\n",
    "dfTUS2.rename( columns={0 :'RawStrL02'}, inplace=True )\n",
    "dfTUS4.rename( columns={0 :'RawStrL04'}, inplace=True )\n",
    "dfTUS5.rename( columns={0 :'RawStrL05'}, inplace=True )\n",
    "\n",
    "dfTUS2['FSU'] = dfTUS2['RawStrL02'].map(lambda x: x[3:8])\n",
    "dfTUS2['Schedule'] = dfTUS2['RawStrL02'].map(lambda x: int(x[8:11]))\n",
    "dfTUS2['Survey Year'] = dfTUS2['RawStrL02'].map(lambda x: int(x[11:15]))\n",
    "dfTUS2['Sector'] = dfTUS2['RawStrL02'].map(lambda x: int(x[15:16]))\n",
    "dfTUS2['NSS-region'] = dfTUS2['RawStrL02'].map(lambda x: int(x[16:19]))\n",
    "dfTUS2['State'] = dfTUS2['RawStrL02'].map(lambda x: int(x[16:18]))\n",
    "dfTUS2['District'] = dfTUS2['RawStrL02'].map(lambda x: x[19:21])\n",
    "dfTUS2['Stratum'] = dfTUS2['RawStrL02'].map(lambda x: x[21:23])\n",
    "dfTUS2['Sub-stratum'] = dfTUS2['RawStrL02'].map(lambda x: x[23:25])\n",
    "dfTUS2['Sub round'] = dfTUS2['RawStrL02'].map(lambda x: int(x[25:26]))\n",
    "dfTUS2['FOD sub region'] = dfTUS2['RawStrL02'].map(lambda x: x[26:30])\n",
    "dfTUS2['Sample HHID'] = dfTUS2['RawStrL02'].map(lambda x: x[30:32])\n",
    "dfTUS2['Level'] = dfTUS2['RawStrL02'].map(lambda x: int(x[32:34]))\n",
    "dfTUS2['Filler'] = dfTUS2['RawStrL02'].map(lambda x: int(x[34:36]))\n",
    "dfTUS2['PersonID'] = dfTUS2['RawStrL02'].map(lambda x: int(x[36:39]))\n",
    "dfTUS2['RelationToHead'] = dfTUS2['RawStrL02'].map(lambda x: int(x[39:40]))\n",
    "dfTUS2['Gender'] = dfTUS2['RawStrL02'].map(lambda x: int(x[40:41]))\n",
    "dfTUS2['Age'] = dfTUS2['RawStrL02'].map(lambda x: int(x[41:44]))\n",
    "dfTUS2['MaritalStatus'] = dfTUS2['RawStrL02'].map(lambda x: int(x[44:45]))\n",
    "dfTUS2['Education'] = dfTUS2['RawStrL02'].map(lambda x: int(x[45:47]))\n",
    "dfTUS2['PrincipleActivity'] = dfTUS2['RawStrL02'].map(lambda x: int(x[47:49]))\n",
    "dfTUS2['IndustryOfWork'] = dfTUS2['RawStrL02'].map(lambda x: int(x[49:51]))\n",
    "dfTUS2['NSC'] = dfTUS2['RawStrL02'].map(lambda x: int(x[126:129]))\n",
    "dfTUS2['MULT'] = dfTUS2['RawStrL02'].map(lambda x: int(x[129:139]))\n",
    "\n",
    "## Checked df.memory_usage(deep=True) Raw column used highest memory - overcommiting handle issue - so need to drop\n",
    "\n",
    "dfTUS2= dfTUS2.drop(columns={'RawStrL02','Level','Filler','Schedule','Survey Year'})\n",
    "\n",
    "dfTUS4['FSU'] = dfTUS4['RawStrL04'].map(lambda x: x[3:8])\n",
    "dfTUS4['Sector'] = dfTUS4['RawStrL04'].map(lambda x: int(x[15:16]))\n",
    "dfTUS4['NSS-region'] = dfTUS4['RawStrL04'].map(lambda x: int(x[16:19]))\n",
    "dfTUS4['State'] = dfTUS4['RawStrL04'].map(lambda x: int(x[16:18]))\n",
    "dfTUS4['District'] = dfTUS4['RawStrL04'].map(lambda x: x[19:21])\n",
    "dfTUS4['Stratum'] = dfTUS4['RawStrL04'].map(lambda x: x[21:23])\n",
    "dfTUS4['Sub-stratum'] = dfTUS4['RawStrL04'].map(lambda x: x[23:25])\n",
    "dfTUS4['Sample HHID'] = dfTUS4['RawStrL04'].map(lambda x: int(x[30:32]))\n",
    "dfTUS4['PersonID'] = dfTUS4['RawStrL04'].map(lambda x: int(x[36:39]))\n",
    "dfTUS4['day of the week'] = dfTUS4['RawStrL04'].map(lambda x: int(x[44:45]))\n",
    "dfTUS4['Type of the day'] = dfTUS4['RawStrL04'].map(lambda x: int(x[45:46]))\n",
    "dfTUS4['response code'] = dfTUS4['RawStrL04'].map(lambda x: int(x[46:47]))\n",
    "\n",
    "dfTUS4= dfTUS4.drop(columns={'RawStrL04'})\n",
    "\n",
    "dfTUS5['FSU'] = dfTUS5['RawStrL05'].map(lambda x: x[3:8])\n",
    "dfTUS5['Sector'] = dfTUS5['RawStrL05'].map(lambda x: x[15:16])\n",
    "dfTUS5['State'] = dfTUS5['RawStrL05'].map(lambda x: x[16:18])\n",
    "dfTUS5['NSS-region'] = dfTUS5['RawStrL05'].map(lambda x: x[16:19])\n",
    "dfTUS5['District'] = dfTUS5['RawStrL05'].map(lambda x: x[19:21])\n",
    "dfTUS5['Stratum'] = dfTUS5['RawStrL05'].map(lambda x: x[21:23])\n",
    "dfTUS5['Sub-stratum'] = dfTUS5['RawStrL05'].map(lambda x: x[23:25])\n",
    "dfTUS5['Sample HHID'] = dfTUS5['RawStrL05'].map(lambda x: x[30:32])\n",
    "dfTUS5['PersonID'] =  dfTUS5['RawStrL05'].map(lambda x: x[36:39])\n",
    "dfTUS5['Serial no of Activity'] = dfTUS5['RawStrL05'].map(lambda x: x[42:45])\n",
    "dfTUS5['Time from'] = dfTUS5['RawStrL05'].map(lambda x: x[45:50])\n",
    "dfTUS5['Time to'] = dfTUS5['RawStrL05'].map(lambda x: x[50:55])\n",
    "dfTUS5['Multi-activity'] = dfTUS5['RawStrL05'].map(lambda x: x[55:56])\n",
    "dfTUS5['Simul-activity'] = dfTUS5['RawStrL05'].map(lambda x: x[56:57])\n",
    "dfTUS5['Major-activity'] = dfTUS5['RawStrL05'].map(lambda x: x[57:58])\n",
    "dfTUS5['Activity code'] = dfTUS5['RawStrL05'].map(lambda x: x[58:61])\n",
    "dfTUS5['Where'] = dfTUS5['RawStrL05'].map(lambda x: x[61:62])\n",
    "dfTUS5['Paid-unpaid'] = dfTUS5['RawStrL05'].map(lambda x: x[62:64])\n",
    "dfTUS5['Type of enterprise'] = dfTUS5['RawStrL05'].map(lambda x: x[64:65])\n",
    "dfTUS5['NSC'] = dfTUS5['RawStrL05'].map(lambda x: x[126:129])\n",
    "\n",
    "dfTUS5= dfTUS5.drop(columns={'RawStrL05'})\n",
    "\n",
    "##Locating only rural HHs\n",
    "\n",
    "dfTUS2 = dfTUS2.loc[dfTUS2['Sector']==2]\n",
    "dfTUS4 = dfTUS4.loc[dfTUS4['Sector']==2]\n",
    "dfTUS5 = dfTUS5.loc[dfTUS5['Sector']=='2']\n",
    "\n",
    "#creating rural TUS database for future use\n",
    "\n",
    "dfTUS2.to_csv('TUS2_rural.csv')\n",
    "dfTUS4.to_csv('TUS4_rural.csv')\n",
    "dfTUS5.to_csv('TUS5_TimeUse_rural.csv')\n",
    "\n"
   ]
  },
  {
   "cell_type": "markdown",
   "metadata": {},
   "source": [
    "#### Parsing states based on NSS_region - all 5 levels HH + TUS - based on state - each state should have 5 datafiles  HH1 & HH3 + TUS2 TUS4 & TUS5"
   ]
  },
  {
   "cell_type": "code",
   "execution_count": 14,
   "metadata": {},
   "outputs": [],
   "source": [
    "### HH1 - L01\n",
    "\n",
    "KashmirHH1 =  dfHH1[dfHH1.State == 1]\n",
    "HimachalPradeshHH1 = dfHH1[dfHH1.State == 2]\n",
    "PunjabHH1 = dfHH1[dfHH1.State == 3]\n",
    "ChandigarhHH1 = dfHH1[dfHH1.State== 4]\n",
    "UttarakhandHH1 = dfHH1[dfHH1.State == 5]\n",
    "HaryanaHH1 = dfHH1[dfHH1.State == 6]\n",
    "DelhiHH1 = dfHH1[dfHH1.State == 7]\n",
    "RajasthanHH1 = dfHH1[dfHH1.State == 8]\n",
    "UttarPradeshHH1 = dfHH1[dfHH1.State == 9]\n",
    "BiharHH1 = dfHH1[dfHH1.State == 10]\n",
    "SikkimHH1 = dfHH1[dfHH1.State == 11]\n",
    "ArunachalPradeshHH1 = dfHH1[dfHH1.State == 12]\n",
    "NagalandHH1 = dfHH1[dfHH1.State == 13]\n",
    "ManipurHH1 = dfHH1[dfHH1.State == 14]\n",
    "MizoramHH1 = dfHH1[dfHH1.State == 15]\n",
    "TripuraHH1 = dfHH1[dfHH1.State == 16]\n",
    "MeghalayaHH1 = dfHH1[dfHH1.State == 17]\n",
    "AssamHH1 = dfHH1[dfHH1.State == 18]\n",
    "WestBengalHH1 = dfHH1[dfHH1.State == 19]\n",
    "JharkhandHH1 = dfHH1[dfHH1.State == 20]\n",
    "OdishaHH1 = dfHH1[dfHH1.State == 21]\n",
    "ChhatishgarhHH1 = dfHH1[dfHH1.State == 22]\n",
    "MadhyaPradeshHH1 = dfHH1[dfHH1.State == 23]\n",
    "GujaratHH1 = dfHH1[dfHH1.State == 24]\n",
    "DamanDiuHH1 = dfHH1[dfHH1.State == 25]\n",
    "DNHaveliHH1 = dfHH1[dfHH1.State == 26]\n",
    "MaharashtraHH1 = dfHH1[dfHH1.State == 27]\n",
    "AndhraPradeshHH1 = dfHH1[dfHH1.State == 28]\n",
    "KarnatakaHH1 = dfHH1[dfHH1.State == 29]\n",
    "GoaHH1 = dfHH1[dfHH1.State == 30]\n",
    "LakshadweepHH1 = dfHH1[dfHH1.State == 31]\n",
    "KeralaHH1 = dfHH1[dfHH1.State == 32]\n",
    "TamilnaduHH1 = dfHH1[dfHH1.State == 33]\n",
    "PuducherryHH1 = dfHH1[dfHH1.State == 34]\n",
    "ANIslandsHH1 = dfHH1[dfHH1.State == 35]\n",
    "TelanganaHH1 = dfHH1[dfHH1.State == 36]\n",
    "\n",
    "## HH3 - L03 \n",
    "\n",
    "KashmirHH3 =  dfHH3[dfHH3.State == 1]\n",
    "HimachalPradeshHH3 = dfHH3[dfHH3.State == 2]\n",
    "PunjabHH3 = dfHH3[dfHH3.State == 3]\n",
    "ChandigarhHH3 = dfHH3[dfHH3.State== 4]\n",
    "UttarakhandHH3 = dfHH3[dfHH3.State == 5]\n",
    "HaryanaHH3 = dfHH3[dfHH3.State == 6]\n",
    "DelhiHH3 = dfHH3[dfHH3.State == 7]\n",
    "RajasthanHH3 = dfHH3[dfHH3.State == 8]\n",
    "UttarPradeshHH3 = dfHH3[dfHH3.State == 9]\n",
    "BiharHH3 = dfHH3[dfHH3.State == 10]\n",
    "SikkimHH3 = dfHH3[dfHH3.State == 11]\n",
    "ArunachalPradeshHH3 = dfHH3[dfHH3.State == 12]\n",
    "NagalandHH3 = dfHH3[dfHH3.State == 13]\n",
    "ManipurHH3 = dfHH3[dfHH3.State == 14]\n",
    "MizoramHH3 = dfHH3[dfHH3.State == 15]\n",
    "TripuraHH3 = dfHH3[dfHH3.State == 16]\n",
    "MeghalayaHH3 = dfHH3[dfHH3.State == 17]\n",
    "AssamHH3 = dfHH3[dfHH3.State == 18]\n",
    "WestBengalHH3 = dfHH3[dfHH3.State == 19]\n",
    "JharkhandHH3 = dfHH3[dfHH3.State == 20]\n",
    "OdishaHH3 = dfHH3[dfHH3.State == 21]\n",
    "ChhatishgarhHH3 = dfHH3[dfHH3.State == 22]\n",
    "MadhyaPradeshHH3 = dfHH3[dfHH3.State == 23]\n",
    "GujaratHH3 = dfHH3[dfHH3.State == 24]\n",
    "DamanDiuHH3 = dfHH3[dfHH3.State == 25]\n",
    "DNHaveliHH3 = dfHH3[dfHH3.State == 26]\n",
    "MaharashtraHH3 = dfHH3[dfHH3.State == 27]\n",
    "AndhraPradeshHH3 = dfHH3[dfHH3.State == 28]\n",
    "KarnatakaHH3 = dfHH3[dfHH3.State == 29]\n",
    "GoaHH3 = dfHH3[dfHH3.State == 30]\n",
    "LakshadweepHH3 = dfHH3[dfHH3.State == 31]\n",
    "KeralaHH3 = dfHH3[dfHH3.State == 32]\n",
    "TamilnaduHH3 = dfHH3[dfHH3.State == 33]\n",
    "PuducherryHH3 = dfHH3[dfHH3.State == 34]\n",
    "ANIslandsHH3 = dfHH3[dfHH3.State == 35]\n",
    "TelanganaHH3 = dfHH3[dfHH3.State == 36]\n",
    "\n",
    "\n",
    "## Time Use 2\n",
    "\n",
    "KashmirTUS2 =  dfTUS2[dfTUS2.State == 1]\n",
    "HimachalPradeshTUS2 = dfTUS2[dfTUS2.State == 2]\n",
    "PunjabTUS2 = dfTUS2[dfTUS2.State == 3]\n",
    "ChandigarhTUS2 = dfTUS2[dfTUS2.State== 4]\n",
    "UttarakhandTUS2 = dfTUS2[dfTUS2.State == 5]\n",
    "HaryanaTUS2 = dfTUS2[dfTUS2.State == 6]\n",
    "DelhiTUS2 = dfTUS2[dfTUS2.State == 7]\n",
    "RajasthanTUS2 = dfTUS2[dfTUS2.State == 8]\n",
    "UttarPradeshTUS2 = dfTUS2[dfTUS2.State == 9]\n",
    "BiharTUS2 = dfTUS2[dfTUS2.State == 10]\n",
    "SikkimTUS2 = dfTUS2[dfTUS2.State == 11]\n",
    "ArunachalPradeshTUS2 = dfTUS2[dfTUS2.State == 12]\n",
    "NagalandTUS2 = dfTUS2[dfTUS2.State == 13]\n",
    "ManipurTUS2 = dfTUS2[dfTUS2.State == 14]\n",
    "MizoramTUS2 = dfTUS2[dfTUS2.State == 15]\n",
    "TripuraTUS2 = dfTUS2[dfTUS2.State == 16]\n",
    "MeghalayaTUS2 = dfTUS2[dfTUS2.State == 17]\n",
    "AssamTUS2 = dfTUS2[dfTUS2.State == 18]\n",
    "WestBengalTUS2 = dfTUS2[dfTUS2.State == 19]\n",
    "JharkhandTUS2 = dfTUS2[dfTUS2.State == 20]\n",
    "OdishaTUS2 = dfTUS2[dfTUS2.State == 21]\n",
    "ChhatishgarhTUS2 = dfTUS2[dfTUS2.State == 22]\n",
    "MadhyaPradeshTUS2 = dfTUS2[dfTUS2.State == 23]\n",
    "GujaratTUS2 = dfTUS2[dfTUS2.State == 24]\n",
    "DamanDiuTUS2 = dfTUS2[dfTUS2.State == 25]\n",
    "DNHaveliTUS2 = dfTUS2[dfTUS2.State == 26]\n",
    "MaharashtraTUS2 = dfTUS2[dfTUS2.State == 27]\n",
    "AndhraPradeshTUS2 = dfTUS2[dfTUS2.State == 28]\n",
    "KarnatakaTUS2 = dfTUS2[dfTUS2.State == 29]\n",
    "GoaTUS2= dfTUS2[dfTUS2.State == 30]\n",
    "LakshadweepTUS2 = dfTUS2[dfTUS2.State == 31]\n",
    "KeralaTUS2 = dfTUS2[dfTUS2.State == 32]\n",
    "TamilnaduTUS2 = dfTUS2[dfTUS2.State == 33]\n",
    "PuducherryTUS2 = dfTUS2[dfTUS2.State == 34]\n",
    "ANIslandsTUS2 = dfTUS2[dfTUS2.State == 35]\n",
    "TelanganaTUS2 = dfTUS2[dfTUS2.State == 36]\n",
    "\n",
    "#Time Use 4\n",
    "\n",
    "KashmirTUS4 =  dfTUS4[dfTUS4.State == 1]\n",
    "HimachalPradeshTUS4 = dfTUS4[dfTUS4.State == 2]\n",
    "PunjabTUS4 = dfTUS4[dfTUS4.State == 3]\n",
    "ChandigarhTUS4 = dfTUS4[dfTUS4.State== 4]\n",
    "UttarakhandTUS4 = dfTUS4[dfTUS4.State == 5]\n",
    "HaryanaTUS4 = dfTUS4[dfTUS4.State == 6]\n",
    "DelhiTUS4 = dfTUS4[dfTUS4.State == 7]\n",
    "RajasthanTUS4 = dfTUS4[dfTUS4.State == 8]\n",
    "UttarPradeshTUS4 = dfTUS4[dfTUS4.State == 9]\n",
    "BiharTUS4 = dfTUS4[dfTUS4.State == 10]\n",
    "SikkimTUS4 = dfTUS4[dfTUS4.State == 11]\n",
    "ArunachalPradeshTUS4 = dfTUS4[dfTUS4.State == 12]\n",
    "NagalandTUS4 = dfTUS4[dfTUS4.State == 13]\n",
    "ManipurTUS4 = dfTUS4[dfTUS4.State == 14]\n",
    "MizoramTUS4 = dfTUS4[dfTUS4.State == 15]\n",
    "TripuraTUS4 = dfTUS4[dfTUS4.State == 16]\n",
    "MeghalayaTUS4 = dfTUS4[dfTUS4.State == 17]\n",
    "AssamTUS4 = dfTUS4[dfTUS4.State == 18]\n",
    "WestBengalTUS4 = dfTUS4[dfTUS4.State == 19]\n",
    "JharkhandTUS4 = dfTUS4[dfTUS4.State == 20]\n",
    "OdishaTUS4 = dfTUS4[dfTUS4.State == 21]\n",
    "ChhatishgarhTUS4 = dfTUS4[dfTUS4.State == 22]\n",
    "MadhyaPradeshTUS4 = dfTUS4[dfTUS4.State == 23]\n",
    "GujaratTUS4 = dfTUS4[dfTUS4.State == 24]\n",
    "DamanDiuTUS4 = dfTUS4[dfTUS4.State == 25]\n",
    "DNHaveliTUS4 = dfTUS4[dfTUS4.State == 26]\n",
    "MaharashtraTUS4 = dfTUS4[dfTUS4.State == 27]\n",
    "AndhraPradeshTUS4 = dfTUS4[dfTUS4.State == 28]\n",
    "KarnatakaTUS4 = dfTUS4[dfTUS4.State == 29]\n",
    "GoaTUS4 = dfTUS4[dfTUS4.State == 30]\n",
    "LakshadweepTUS4 = dfTUS4[dfTUS4.State == 31]\n",
    "KeralaTUS4 = dfTUS4[dfTUS4.State == 32]\n",
    "TamilnaduTUS4 = dfTUS4[dfTUS4.State == 33]\n",
    "PuducherryTUS4 = dfTUS4[dfTUS4.State == 34]\n",
    "ANIslandsTUS4 = dfTUS4[dfTUS4.State == 35]\n",
    "TelanganaTUS4 = dfTUS4[dfTUS4.State == 36]\n",
    "\n",
    "#Time Use 5\n",
    "\n",
    "KashmirTUS5 =  dfTUS5[dfTUS5.State == '01']\n",
    "HimachalPradeshTUS5 = dfTUS5[dfTUS5.State == '02']\n",
    "PunjabTUS5 = dfTUS5[dfTUS5.State == '03']\n",
    "ChandigarhTUS5 = dfTUS5[dfTUS5.State== '04']\n",
    "UttarakhandTUS5 = dfTUS5[dfTUS5.State == '05']\n",
    "HaryanaTUS5 = dfTUS5[dfTUS5.State == '06']\n",
    "DelhiTUS5 = dfTUS5[dfTUS5.State == '07']\n",
    "RajasthanTUS5 = dfTUS5[dfTUS5.State == '08']\n",
    "UttarPradeshTUS5 = dfTUS5[dfTUS5.State == '09']\n",
    "BiharTUS5 = dfTUS5[dfTUS5.State == '10']\n",
    "SikkimTUS5 = dfTUS5[dfTUS5.State == '11']\n",
    "ArunachalPradeshTUS5 = dfTUS5[dfTUS5.State == '12']\n",
    "NagalandTUS5 = dfTUS5[dfTUS5.State == '13']\n",
    "ManipurTUS5 = dfTUS5[dfTUS5.State == '14']\n",
    "MizoramTUS5 = dfTUS5[dfTUS5.State == '15']\n",
    "TripuraTUS5 = dfTUS5[dfTUS5.State == '16']\n",
    "MeghalayaTUS5 = dfTUS5[dfTUS5.State == '17']\n",
    "AssamTUS5 = dfTUS5[dfTUS5.State == '18']\n",
    "WestBengalTUS5 = dfTUS5[dfTUS5.State == '19']\n",
    "JharkhandTUS5 = dfTUS5[dfTUS5.State == '20']\n",
    "OdishaTUS5 = dfTUS5[dfTUS5.State == '21']\n",
    "ChhatishgarhTUS5 = dfTUS5[dfTUS5.State == '22']\n",
    "MadhyaPradeshTUS5 = dfTUS5[dfTUS5.State == '23']\n",
    "GujaratTUS5 = dfTUS5[dfTUS5.State == '24']\n",
    "DamanDiuTUS5 = dfTUS5[dfTUS5.State == '25']\n",
    "DNHaveliTUS5 = dfTUS5[dfTUS5.State == '26']\n",
    "MaharashtraTUS5 = dfTUS5[dfTUS5.State == '27']\n",
    "AndhraPradeshTUS5 = dfTUS5[dfTUS5.State == '28']\n",
    "KarnatakaTUS5 = dfTUS5[dfTUS5.State == '29']\n",
    "GoaTUS5 = dfTUS5[dfTUS5.State == '30']\n",
    "LakshadweepTUS5 = dfTUS5[dfTUS5.State == '31']\n",
    "KeralaTUS5 = dfTUS5[dfTUS5.State == '32']\n",
    "TamilnaduTUS5 = dfTUS5[dfTUS5.State == '33']\n",
    "PuducherryTUS5 = dfTUS5[dfTUS5.State == '34']\n",
    "ANIslandsTUS5 = dfTUS5[dfTUS5.State == '35']\n",
    "TelanganaTUS5 = dfTUS5[dfTUS5.State == '36']\n",
    "\n",
    "\n",
    "\n",
    "\n",
    "\n"
   ]
  },
  {
   "cell_type": "markdown",
   "metadata": {},
   "source": [
    "#### Choosing states and creating dedicated dataset of individual state - for instance, Uttar Pradesh and Maharashtra"
   ]
  },
  {
   "cell_type": "code",
   "execution_count": 15,
   "metadata": {},
   "outputs": [],
   "source": [
    "UttarPradeshHH1.to_csv('UPRuralHH1.csv')\n",
    "UttarPradeshHH3.to_csv('UPRuralHH3.csv')\n",
    "UttarPradeshTUS2.to_csv('UPRuralTUS2.csv')\n",
    "UttarPradeshTUS4.to_csv('UPRuralTUS4.csv')\n",
    "UttarPradeshTUS5.to_csv('UPRuralTUS5.csv')\n",
    "\n",
    "MaharashtraHH1.to_csv('MahaRuralHH1.csv')\n",
    "MaharashtraHH3.to_csv('MahaRuralHH3.csv')\n",
    "MaharashtraTUS2.to_csv('MahaRuralTUS2.csv')\n",
    "MaharashtraTUS4.to_csv('MahaRuralTUS4.csv')\n",
    "MaharashtraTUS5.to_csv('MahaRuralTUS5.csv')"
   ]
  },
  {
   "cell_type": "code",
   "execution_count": 16,
   "metadata": {},
   "outputs": [
    {
     "name": "stdout",
     "output_type": "stream",
     "text": [
      "(5539, 16)\n",
      "(5539, 31)\n",
      "(23314, 20)\n",
      "(19806, 12)\n",
      "(378140, 20)\n"
     ]
    }
   ],
   "source": [
    "print(UttarPradeshHH1.shape)\n",
    "print(UttarPradeshHH3.shape)\n",
    "print(UttarPradeshTUS2.shape)\n",
    "print(UttarPradeshTUS4.shape)\n",
    "print(UttarPradeshTUS5.shape)"
   ]
  },
  {
   "cell_type": "code",
   "execution_count": 17,
   "metadata": {},
   "outputs": [
    {
     "name": "stdout",
     "output_type": "stream",
     "text": [
      "(6245, 16)\n",
      "(6245, 31)\n",
      "(21918, 20)\n",
      "(19784, 12)\n",
      "(431035, 20)\n"
     ]
    }
   ],
   "source": [
    "print(MaharashtraHH1.shape)\n",
    "print(MaharashtraHH3.shape)\n",
    "print(MaharashtraTUS2.shape)\n",
    "print(MaharashtraTUS4.shape)\n",
    "print(MaharashtraTUS5.shape)"
   ]
  },
  {
   "cell_type": "code",
   "execution_count": 18,
   "metadata": {},
   "outputs": [
    {
     "data": {
      "text/plain": [
       "(55902, 16)"
      ]
     },
     "execution_count": 18,
     "metadata": {},
     "output_type": "execute_result"
    }
   ],
   "source": [
    "dfHH1.shape"
   ]
  },
  {
   "cell_type": "code",
   "execution_count": 19,
   "metadata": {},
   "outputs": [
    {
     "data": {
      "text/plain": [
       "(55902, 31)"
      ]
     },
     "execution_count": 19,
     "metadata": {},
     "output_type": "execute_result"
    }
   ],
   "source": [
    "dfHH3.shape"
   ]
  },
  {
   "cell_type": "code",
   "execution_count": 20,
   "metadata": {},
   "outputs": [
    {
     "data": {
      "text/plain": [
       "(196800, 20)"
      ]
     },
     "execution_count": 20,
     "metadata": {},
     "output_type": "execute_result"
    }
   ],
   "source": [
    "dfTUS2.shape"
   ]
  },
  {
   "cell_type": "code",
   "execution_count": 21,
   "metadata": {},
   "outputs": [
    {
     "data": {
      "text/plain": [
       "(174055, 12)"
      ]
     },
     "execution_count": 21,
     "metadata": {},
     "output_type": "execute_result"
    }
   ],
   "source": [
    "dfTUS4.shape"
   ]
  },
  {
   "cell_type": "code",
   "execution_count": 22,
   "metadata": {},
   "outputs": [
    {
     "data": {
      "text/plain": [
       "(3697736, 20)"
      ]
     },
     "execution_count": 22,
     "metadata": {},
     "output_type": "execute_result"
    }
   ],
   "source": [
    "dfTUS5.shape"
   ]
  },
  {
   "cell_type": "code",
   "execution_count": 23,
   "metadata": {},
   "outputs": [],
   "source": [
    "KashmirHH1.to_csv('KashmirRuralHH1.csv')\n",
    "KashmirHH3.to_csv('KashmirlHH3.csv')\n",
    "KashmirTUS2.to_csv('KashmirRuralTUS2.csv')\n",
    "KashmirTUS4.to_csv('KashmirTUS4.csv')\n",
    "KashmirTUS5.to_csv('KashmirRuralTUS5.csv')"
   ]
  },
  {
   "cell_type": "code",
   "execution_count": 24,
   "metadata": {},
   "outputs": [
    {
     "name": "stdout",
     "output_type": "stream",
     "text": [
      "(504, 16)\n",
      "(504, 31)\n",
      "(1913, 20)\n",
      "(1705, 12)\n",
      "(33811, 20)\n"
     ]
    }
   ],
   "source": [
    "print(KashmirHH1.shape)\n",
    "print(KashmirHH3.shape)\n",
    "print(KashmirTUS2.shape)\n",
    "print(KashmirTUS4.shape)\n",
    "print(KashmirTUS5.shape)"
   ]
  },
  {
   "cell_type": "code",
   "execution_count": null,
   "metadata": {},
   "outputs": [],
   "source": []
  }
 ],
 "metadata": {
  "kernelspec": {
   "display_name": "Python 3",
   "language": "python",
   "name": "python3"
  },
  "language_info": {
   "codemirror_mode": {
    "name": "ipython",
    "version": 3
   },
   "file_extension": ".py",
   "mimetype": "text/x-python",
   "name": "python",
   "nbconvert_exporter": "python",
   "pygments_lexer": "ipython3",
   "version": "3.8.5"
  }
 },
 "nbformat": 4,
 "nbformat_minor": 4
}
