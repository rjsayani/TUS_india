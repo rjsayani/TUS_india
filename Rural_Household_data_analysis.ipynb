{
 "cells": [
  {
   "cell_type": "markdown",
   "metadata": {},
   "source": [
    "#### Analysing and Plotting Household data Uttar Pradesh and Maharashtra"
   ]
  },
  {
   "cell_type": "code",
   "execution_count": 1,
   "metadata": {},
   "outputs": [],
   "source": [
    "import pandas as pd\n",
    "import numpy as np\n",
    "import matplotlib.pyplot as plt\n",
    "import seaborn as sns "
   ]
  },
  {
   "cell_type": "markdown",
   "metadata": {},
   "source": [
    "#### Parsing household data and creating a merged dataframe of level 1 and level 3"
   ]
  },
  {
   "cell_type": "code",
   "execution_count": 2,
   "metadata": {},
   "outputs": [],
   "source": [
    "colspecs = [(3,8),(15,16),(16,18),(19,21),(21,23),(23,25),(30,32),(39,41),(41,42),(42,43),(43,44),(56,62),(62,68),(68,71),(126,129),(129,139)]\n",
    "dfHH1 = pd.read_fwf('TUS106_L01.txt', colspecs)\n",
    "columns = [\"FSU\", \"Sector\",\"State\",\"District\",\"Stratum\",\"Sub-stratum\",\"Sample HHID\",\"InformantSI no\",\"Response code\", \"Survey code\",\"Casualty code\",\"Date of Survey\",\"Date of despatch\", \"Time to canvass\",\"NSC\", \"Multiplier\"]\n",
    "dfHH1.columns =  columns\n",
    "\n",
    "colspecs = [(3,8),(15,16),(16,18),(19,21),(21,23),(23,25),(30,32),(39,42),(44,46),(46,56),(56,66),(66,76),(76,86),(86,96),(96,98),(98,99),(99,100),(100,101),(101,102),(102,103),(126,129),(129,139)]\n",
    "dfHH3 = pd.read_fwf('TUS106_L03.txt', colspecs)\n",
    "columns = [\"FSU\", \"Sector\",\"State\",\"District\",\"Stratum\", \"Sub-stratum\", \"Sample HHID\", \"HH Size\", \"Land Own\", \"Monthly HH expenses A\", \"Impute Home grown B\", \"Wages in Kind C\", \"HH durable spent D\", \"Usual monthly expenses - ABCD\", \"Cooking energy\", \"lighting energy\", \"Washing clothes\", \"Sweeping floor\", \"Dwelling structure\", \"Care giver\", \"NSC\", \"Multiplier\"]\n",
    "dfHH3.columns =  columns\n"
   ]
  },
  {
   "cell_type": "code",
   "execution_count": 3,
   "metadata": {},
   "outputs": [
    {
     "name": "stdout",
     "output_type": "stream",
     "text": [
      "(138798, 16)\n",
      "(138798, 22)\n"
     ]
    }
   ],
   "source": [
    "print(dfHH1.shape)\n",
    "print(dfHH3.shape)"
   ]
  },
  {
   "cell_type": "code",
   "execution_count": 4,
   "metadata": {},
   "outputs": [
    {
     "name": "stdout",
     "output_type": "stream",
     "text": [
      "(5539, 16)\n",
      "(5539, 22)\n"
     ]
    }
   ],
   "source": [
    "dfHH1 = dfHH1[(dfHH1.Sector == 2) & (dfHH1.State == 9)]\n",
    "dfHH3 = dfHH3[(dfHH3.Sector == 2) & (dfHH3.State == 9)]\n",
    "\n",
    "print(dfHH1.shape)\n",
    "print(dfHH3.shape)"
   ]
  },
  {
   "cell_type": "code",
   "execution_count": 5,
   "metadata": {},
   "outputs": [
    {
     "data": {
      "text/plain": [
       "(5539, 38)"
      ]
     },
     "execution_count": 5,
     "metadata": {},
     "output_type": "execute_result"
    }
   ],
   "source": [
    "HH_merge = pd.concat([dfHH1, dfHH3], axis=1)\n",
    "HH_merge.shape"
   ]
  },
  {
   "cell_type": "code",
   "execution_count": 6,
   "metadata": {},
   "outputs": [
    {
     "data": {
      "text/plain": [
       "FSU                                 0\n",
       "Sector                              0\n",
       "State                               0\n",
       "District                            0\n",
       "Stratum                             0\n",
       "Sub-stratum                         0\n",
       "Sample HHID                         0\n",
       "InformantSI no                      4\n",
       "Response code                       0\n",
       "Survey code                         0\n",
       "Casualty code                    5095\n",
       "Date of Survey                     34\n",
       "Date of despatch                  564\n",
       "Time to canvass                   122\n",
       "NSC                                 0\n",
       "Multiplier                          0\n",
       "FSU                                 0\n",
       "Sector                              0\n",
       "State                               0\n",
       "District                            0\n",
       "Stratum                             0\n",
       "Sub-stratum                         0\n",
       "Sample HHID                         0\n",
       "HH Size                             0\n",
       "Land Own                           89\n",
       "Monthly HH expenses A               0\n",
       "Impute Home grown B              1705\n",
       "Wages in Kind C                  1459\n",
       "HH durable spent D                667\n",
       "Usual monthly expenses - ABCD       0\n",
       "Cooking energy                      0\n",
       "lighting energy                     0\n",
       "Washing clothes                     0\n",
       "Sweeping floor                      0\n",
       "Dwelling structure                  0\n",
       "Care giver                       1936\n",
       "NSC                                 0\n",
       "Multiplier                          0\n",
       "dtype: int64"
      ]
     },
     "execution_count": 6,
     "metadata": {},
     "output_type": "execute_result"
    }
   ],
   "source": [
    "HH_merge.isna().sum()"
   ]
  },
  {
   "cell_type": "code",
   "execution_count": 9,
   "metadata": {},
   "outputs": [],
   "source": [
    "HH_inhabitated = HH_merge[HH_merge['Survey code'] == 1 ]"
   ]
  },
  {
   "cell_type": "code",
   "execution_count": 10,
   "metadata": {},
   "outputs": [
    {
     "data": {
      "text/plain": [
       "(5095, 38)"
      ]
     },
     "execution_count": 10,
     "metadata": {},
     "output_type": "execute_result"
    }
   ],
   "source": [
    "HH_inhabitated.shape"
   ]
  },
  {
   "cell_type": "code",
   "execution_count": 11,
   "metadata": {},
   "outputs": [
    {
     "data": {
      "text/plain": [
       "Index(['FSU', 'Sector', 'State', 'District', 'Stratum', 'Sub-stratum',\n",
       "       'Sample HHID', 'InformantSI no', 'Response code', 'Survey code',\n",
       "       'Casualty code', 'Date of Survey', 'Date of despatch',\n",
       "       'Time to canvass', 'NSC', 'Multiplier', 'FSU', 'Sector', 'State',\n",
       "       'District', 'Stratum', 'Sub-stratum', 'Sample HHID', 'HH Size',\n",
       "       'Land Own', 'Monthly HH expenses A', 'Impute Home grown B',\n",
       "       'Wages in Kind C', 'HH durable spent D',\n",
       "       'Usual monthly expenses - ABCD', 'Cooking energy', 'lighting energy',\n",
       "       'Washing clothes', 'Sweeping floor', 'Dwelling structure', 'Care giver',\n",
       "       'NSC', 'Multiplier'],\n",
       "      dtype='object')"
      ]
     },
     "execution_count": 11,
     "metadata": {},
     "output_type": "execute_result"
    }
   ],
   "source": [
    "HH_inhabitated.columns"
   ]
  },
  {
   "cell_type": "code",
   "execution_count": 12,
   "metadata": {},
   "outputs": [
    {
     "data": {
      "text/plain": [
       "<AxesSubplot:xlabel='HH Size'>"
      ]
     },
     "execution_count": 12,
     "metadata": {},
     "output_type": "execute_result"
    },
    {
     "data": {
      "image/png": "[encoded data removed]",
      "text/plain": [
       "<Figure size 432x288 with 1 Axes>"
      ]
     },
     "metadata": {
      "needs_background": "light"
     },
     "output_type": "display_data"
    }
   ],
   "source": [
    "# Plot boxplot to visualise univariate outlier\n",
    "\n",
    "sns.boxplot(x=HH_inhabitated['HH Size'])"
   ]
  },
  {
   "cell_type": "code",
   "execution_count": 13,
   "metadata": {},
   "outputs": [
    {
     "data": {
      "text/plain": [
       "<AxesSubplot:xlabel='Land Own'>"
      ]
     },
     "execution_count": 13,
     "metadata": {},
     "output_type": "execute_result"
    },
    {
     "data": {
      "image/png": "[encoded data removed]",
      "text/plain": [
       "<Figure size 432x288 with 1 Axes>"
      ]
     },
     "metadata": {
      "needs_background": "light"
     },
     "output_type": "display_data"
    }
   ],
   "source": [
    "sns.boxplot(x=HH_inhabitated['Land Own'])"
   ]
  },
  {
   "cell_type": "code",
   "execution_count": 29,
   "metadata": {},
   "outputs": [
    {
     "data": {
      "text/plain": [
       "<AxesSubplot:xlabel='Land Own'>"
      ]
     },
     "execution_count": 29,
     "metadata": {},
     "output_type": "execute_result"
    },
    {
     "data": {
      "image/png": "[encoded data removed]",
      "text/plain": [
       "<Figure size 432x288 with 1 Axes>"
      ]
     },
     "metadata": {
      "needs_background": "light"
     },
     "output_type": "display_data"
    }
   ],
   "source": [
    "HH_LandOwn = HH_inhabitated[HH_inhabitated['Land Own'] <10]\n",
    "sns.boxplot(x=HH_LandOwn['Land Own'])"
   ]
  },
  {
   "cell_type": "code",
   "execution_count": 14,
   "metadata": {},
   "outputs": [
    {
     "data": {
      "text/plain": [
       "<AxesSubplot:xlabel='Monthly HH expenses A'>"
      ]
     },
     "execution_count": 14,
     "metadata": {},
     "output_type": "execute_result"
    },
    {
     "data": {
      "image/png": "[encoded data removed]",
      "text/plain": [
       "<Figure size 432x288 with 1 Axes>"
      ]
     },
     "metadata": {
      "needs_background": "light"
     },
     "output_type": "display_data"
    }
   ],
   "source": [
    "sns.boxplot(x=HH_inhabitated['Monthly HH expenses A'])"
   ]
  },
  {
   "cell_type": "code",
   "execution_count": 15,
   "metadata": {},
   "outputs": [
    {
     "data": {
      "text/plain": [
       "<AxesSubplot:xlabel='Impute Home grown B'>"
      ]
     },
     "execution_count": 15,
     "metadata": {},
     "output_type": "execute_result"
    },
    {
     "data": {
      "image/png": "[encoded data removed]",
      "text/plain": [
       "<Figure size 432x288 with 1 Axes>"
      ]
     },
     "metadata": {
      "needs_background": "light"
     },
     "output_type": "display_data"
    }
   ],
   "source": [
    "sns.boxplot(x=HH_inhabitated['Impute Home grown B'])"
   ]
  },
  {
   "cell_type": "code",
   "execution_count": 16,
   "metadata": {},
   "outputs": [
    {
     "data": {
      "text/plain": [
       "<AxesSubplot:xlabel='Wages in Kind C'>"
      ]
     },
     "execution_count": 16,
     "metadata": {},
     "output_type": "execute_result"
    },
    {
     "data": {
      "image/png": "[encoded data removed]",
      "text/plain": [
       "<Figure size 432x288 with 1 Axes>"
      ]
     },
     "metadata": {
      "needs_background": "light"
     },
     "output_type": "display_data"
    }
   ],
   "source": [
    "sns.boxplot(x=HH_inhabitated['Wages in Kind C'])"
   ]
  },
  {
   "cell_type": "code",
   "execution_count": 17,
   "metadata": {},
   "outputs": [
    {
     "data": {
      "text/plain": [
       "<AxesSubplot:xlabel='HH durable spent D'>"
      ]
     },
     "execution_count": 17,
     "metadata": {},
     "output_type": "execute_result"
    },
    {
     "data": {
      "image/png": "[encoded data removed]",
      "text/plain": [
       "<Figure size 432x288 with 1 Axes>"
      ]
     },
     "metadata": {
      "needs_background": "light"
     },
     "output_type": "display_data"
    }
   ],
   "source": [
    "sns.boxplot(x=HH_inhabitated['HH durable spent D'])"
   ]
  },
  {
   "cell_type": "code",
   "execution_count": 18,
   "metadata": {},
   "outputs": [
    {
     "data": {
      "text/plain": [
       "<AxesSubplot:xlabel='Usual monthly expenses - ABCD'>"
      ]
     },
     "execution_count": 18,
     "metadata": {},
     "output_type": "execute_result"
    },
    {
     "data": {
      "image/png": "[encoded data removed]",
      "text/plain": [
       "<Figure size 432x288 with 1 Axes>"
      ]
     },
     "metadata": {
      "needs_background": "light"
     },
     "output_type": "display_data"
    }
   ],
   "source": [
    "sns.boxplot(x=HH_inhabitated['Usual monthly expenses - ABCD'])"
   ]
  },
  {
   "cell_type": "code",
   "execution_count": 19,
   "metadata": {},
   "outputs": [
    {
     "data": {
      "text/plain": [
       "(array([  22,   81,   84,   89,   99,  120,  125,  126,  130,  142,  168,\n",
       "         222,  251,  253,  376,  377,  388,  420,  451,  502,  504,  514,\n",
       "         524,  629,  632,  637,  641,  649,  670,  682,  692,  693,  696,\n",
       "         697,  750,  751,  785,  800,  801,  808,  871,  872,  876,  880,\n",
       "         890,  922,  932,  934,  936,  941,  991, 1048, 1052, 1053, 1171,\n",
       "        1172, 1229, 1235, 1236, 1239, 1248, 1330, 1363, 1469, 1530, 1554,\n",
       "        1688, 1701, 1734, 1736, 1796, 1797, 1799, 1800, 1864, 1865, 1866,\n",
       "        1867, 1869, 1870, 1872, 1889, 1890, 1899, 2056, 2057, 2084, 2097,\n",
       "        2109, 2137, 2177, 2250, 2252, 2277, 2278, 2280, 2281, 2283, 2285,\n",
       "        2286, 2287, 2289, 2295, 2316, 2342, 2355, 2359, 2386, 2393, 2394,\n",
       "        2397, 2410, 2412, 2415, 2446, 2460, 2517, 2595, 2601, 2681, 2699,\n",
       "        2727, 2728, 2729, 2731, 2732, 2733, 2748, 2751, 2756, 2757, 2784,\n",
       "        2787, 2792, 2793, 2797, 2886, 2888, 2914, 2956, 2976, 2979, 2981,\n",
       "        2984, 2999, 3004, 3011, 3013, 3042, 3044, 3045, 3046, 3047, 3051,\n",
       "        3052, 3054, 3056, 3128, 3136, 3254, 3257, 3299, 3300, 3304, 3306,\n",
       "        3307, 3308, 3309, 3367, 3406, 3420, 3456, 3497, 3512, 3563, 3571,\n",
       "        3575, 3662, 3664, 3674, 3680, 3689, 3691, 3692, 3694, 3695, 3696,\n",
       "        3697, 3698, 3711, 3725, 3727, 3728, 3730, 3734, 3735, 3770, 3771,\n",
       "        3772, 3773, 3777, 3838, 3880, 3890, 3917, 3926, 3927, 3929, 3932,\n",
       "        3934, 3937, 3938, 3989, 3995, 3996, 3997, 4008, 4023, 4024, 4025,\n",
       "        4028, 4029, 4030, 4033, 4066, 4067, 4072, 4117, 4207, 4265, 4331,\n",
       "        4360, 4368, 4369, 4371, 4526, 4535, 4538, 4540, 4541, 4542, 4543,\n",
       "        4544, 4545, 4546, 4553, 4554, 4576, 4579, 4583, 4585, 4588, 4645,\n",
       "        4740, 4762, 4765, 4766, 4770, 4771, 4899, 4946, 4967, 4971, 5021,\n",
       "        5024, 5025, 5027, 5028, 5029, 5031], dtype=int64),)"
      ]
     },
     "execution_count": 19,
     "metadata": {},
     "output_type": "execute_result"
    }
   ],
   "source": [
    "\n",
    "#Detecting outiers using IQR outlier detection\n",
    "# IQR outlier detection\n",
    "data = HH_inhabitated['Usual monthly expenses - ABCD']\n",
    "q1,q3 = np.percentile(data,[25,75])\n",
    "interQuartileRange = q3 - q1\n",
    "lowerBound = q1 - (interQuartileRange*1.5)\n",
    "upperBound = q3 + (interQuartileRange*1.5)\n",
    "outlierIndices = np.where((data > upperBound)|(data < lowerBound))\n",
    "outlierIndices"
   ]
  },
  {
   "cell_type": "code",
   "execution_count": 23,
   "metadata": {},
   "outputs": [],
   "source": [
    "#Detecting outiers using IQR outlier detection\n",
    "# IQR outlier detection\n",
    "data = HH_inhabited['HH Size']\n",
    "q1,q3 = np.percentile(data,[25,75])\n",
    "interQuartileRange = q3 - q1\n",
    "lowerbound = q1 - (interQuartileRange*1.5)\n",
    "upperbound = q3 + (interQuartileRange*1.5)\n",
    "#outlierIndices2 = np.where((data > upperBound)|(data < lowerBound))\n",
    "#print(outlierIndices)\n",
    "#len(outlierIndices2)\n",
    "#outlierIndices2\n",
    "HH_new = HH_inhabitated.drop(HH_inhabitated[ (HH_inhabitated['HH Size'] > upperbound) | (HH_inhabitated['HH Size'] < lowerbound) ].index , inplace=True)"
   ]
  },
  {
   "cell_type": "code",
   "execution_count": 21,
   "metadata": {},
   "outputs": [],
   "source": [
    "HH_new"
   ]
  },
  {
   "cell_type": "code",
   "execution_count": null,
   "metadata": {},
   "outputs": [],
   "source": [
    "random_data = HH_inhabited['HH Size']\n",
    "\n",
    "q3, q1 = np.percentile(random_data, [75, 25])\n",
    "print(q3, q1)\n",
    "print(len(random_data))\n",
    "random_data = random_data[random_data < q3]\n",
    "random_data = random_data[random_data > q1]\n",
    "print(len(random_data))\n",
    "\n"
   ]
  },
  {
   "cell_type": "code",
   "execution_count": null,
   "metadata": {},
   "outputs": [],
   "source": [
    "# Dropping outliers\n",
    "Data2 = HH_inhabited['HH size'].drop(random_data)\n",
    "print(Data2)\n",
    "# Reset dataset\n",
    "#Data2_reset = Data2.reset_index(drop=True)\n",
    "#print(Data2_reset)"
   ]
  },
  {
   "cell_type": "code",
   "execution_count": null,
   "metadata": {},
   "outputs": [],
   "source": [
    "\n",
    "random_data = HH_inhabited['Monthly HH expenses A']\n",
    "q3, q1 = np.percentile(random_data, [75, 25])\n",
    "print(q3, q1)\n",
    "print(len(random_data))\n",
    "IQR = q3 - q1\n",
    "print(IQR)\n",
    "\n",
    "upper_bound = q3 + 1.5 * IQR\n",
    "lower_bound = q1 - 1.5 * IQR\n",
    "print(upper_bound)\n",
    "print(lower_bound)\n",
    "\n",
    "random_data1 = random_data[random_data < upper_bound]\n",
    "random_data2 = random_data[random_data > lower_bound]\n",
    "print(len(random_data1))\n",
    "print(len(random_data1))"
   ]
  },
  {
   "cell_type": "code",
   "execution_count": null,
   "metadata": {},
   "outputs": [],
   "source": [
    "plt.hist(random_data)"
   ]
  },
  {
   "cell_type": "code",
   "execution_count": null,
   "metadata": {},
   "outputs": [],
   "source": [
    "HH_inhabited['Usual monthly expenses - ABCD'].plot(kind='line')"
   ]
  },
  {
   "cell_type": "code",
   "execution_count": null,
   "metadata": {},
   "outputs": [],
   "source": []
  }
 ],
 "metadata": {
  "kernelspec": {
   "display_name": "Python 3",
   "language": "python",
   "name": "python3"
  },
  "language_info": {
   "codemirror_mode": {
    "name": "ipython",
    "version": 3
   },
   "file_extension": ".py",
   "mimetype": "text/x-python",
   "name": "python",
   "nbconvert_exporter": "python",
   "pygments_lexer": "ipython3",
   "version": "3.8.5"
  }
 },
 "nbformat": 4,
 "nbformat_minor": 4
}
